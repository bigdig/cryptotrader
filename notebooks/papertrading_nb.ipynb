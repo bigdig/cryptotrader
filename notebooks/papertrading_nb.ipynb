{
 "cells": [
  {
   "cell_type": "code",
   "execution_count": null,
   "metadata": {},
   "outputs": [],
   "source": [
    "import sys\n",
    "sys.path.insert(0, '../')\n",
    "import logging\n",
    "logging.basicConfig(level=logging.ERROR)\n",
    "\n",
    "from datetime import datetime, timedelta, timezone\n",
    "\n",
    "from cryptotrader.envs.trading import PaperTradingEnvironment, PaperTradingDataFeed\n",
    "from cryptotrader.agents import apriori\n",
    "from cryptotrader.exchange_api.poloniex import Poloniex\n",
    "from cryptotrader.envs.utils import make_balance\n",
    "\n",
    "from bokeh.io import output_notebook\n",
    "output_notebook()\n",
    "%matplotlib inline"
   ]
  },
  {
   "cell_type": "code",
   "execution_count": null,
   "metadata": {
    "collapsed": true
   },
   "outputs": [],
   "source": [
    "# Simulation Params\n",
    "test_name = 'Paper_trading'\n",
    "obs_steps = 3 # Observation steps\n",
    "period = 5 # Observation period\n",
    "pairs = [\"USDT_BTC\", \"USDT_ETH\", \"USDT_LTC\", \"USDT_XRP\", \"USDT_XMR\", \"USDT_ETC\", \"USDT_ZEC\", \"USDT_DASH\"] # Universe\n",
    "fiat_symbol = 'USDT' # Quote symbol\n",
    "# init_funds = make_balance(crypto=0.01, fiat=100.0, pairs=pairs) # Initial portfolio\n",
    "init_funds = {\"BTC\":'0.120000000',                                         # Manual input\n",
    "              \"ETH\":'0.12000000',\n",
    "              \"LTC\":'0.00000000',\n",
    "              \"XRP\":'0.00000000',\n",
    "              \"XMR\":\"0.00000000\",\n",
    "              \"ETC\":\"0.00000000\",\n",
    "              \"ZEC\":\"0.00000000\",\n",
    "              \"DASH\":\"0.00000000\",\n",
    "              \"USDT\":'100.00000000'}\n",
    "# Email data for reporting\n",
    "# email = 'email@gmail.com'\n",
    "# password = 'password'"
   ]
  },
  {
   "cell_type": "code",
   "execution_count": null,
   "metadata": {
    "scrolled": false
   },
   "outputs": [],
   "source": [
    "# Env setup\n",
    "tapi = Poloniex()\n",
    "tapi = PaperTradingDataFeed(tapi, period, pairs, init_funds)\n",
    "\n",
    "env = PaperTradingEnvironment(period, obs_steps, tapi, test_name)\n",
    "env.add_pairs(pairs)\n",
    "env.fiat = fiat_symbol\n",
    "\n",
    "# Email for report generation (Gmail only)\n",
    "# env.set_email(email, password)\n",
    "\n",
    "obs = env.reset()"
   ]
  },
  {
   "cell_type": "code",
   "execution_count": null,
   "metadata": {
    "scrolled": false
   },
   "outputs": [],
   "source": [
    "# Run simulation\n",
    "agent = apriori.TestAgent(env.get_observation(True).shape)\n",
    "# agent = apriori.PAMRTrader(sensitivity=0.04, C=2500, variant='PAMR2')\n",
    "agent.trade(env, verbose=True)"
   ]
  },
  {
   "cell_type": "code",
   "execution_count": null,
   "metadata": {
    "scrolled": false
   },
   "outputs": [],
   "source": [
    "# Plot results\n",
    "env.plot_results();"
   ]
  }
 ],
 "metadata": {
  "kernelspec": {
   "display_name": "Python 3",
   "language": "python",
   "name": "python3"
  },
  "language_info": {
   "codemirror_mode": {
    "name": "ipython",
    "version": 3
   },
   "file_extension": ".py",
   "mimetype": "text/x-python",
   "name": "python",
   "nbconvert_exporter": "python",
   "pygments_lexer": "ipython3",
   "version": "3.6.0"
  }
 },
 "nbformat": 4,
 "nbformat_minor": 2
}
