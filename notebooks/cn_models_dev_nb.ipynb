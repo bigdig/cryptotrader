{
 "cells": [
  {
   "cell_type": "code",
   "execution_count": 1,
   "metadata": {},
   "outputs": [
    {
     "data": {
      "text/html": [
       "\n",
       "    <div class=\"bk-root\">\n",
       "        <a href=\"https://bokeh.pydata.org\" target=\"_blank\" class=\"bk-logo bk-logo-small bk-logo-notebook\"></a>\n",
       "        <span id=\"b42171eb-ebfa-4c0a-8ea4-a78cb4ad1080\">Loading BokehJS ...</span>\n",
       "    </div>"
      ]
     },
     "metadata": {},
     "output_type": "execute_result"
    },
    {
     "data": {},
     "metadata": {},
     "output_type": "display_data"
    }
   ],
   "source": [
    "import sys\n",
    "sys.path.insert(0, '../')\n",
    "import gc\n",
    "import logging\n",
    "logging.basicConfig(level=logging.DEBUG)\n",
    "from time import time\n",
    "import os\n",
    "import numpy as np\n",
    "np.random.seed(42)\n",
    "\n",
    "from cryptotrader.envs.driver import Apocalipse, get_historical\n",
    "from cryptotrader.envs.utils import make_env, get_dfs_from_db\n",
    "from cryptotrader.utils import convert_to, array_normalize\n",
    "from cryptotrader.models import cn_models\n",
    "\n",
    "import chainer as cn\n",
    "import pandas as pd\n",
    "from bokeh.io import output_notebook\n",
    "from jupyterthemes import jtplot\n",
    "output_notebook()\n",
    "jtplot.style()\n",
    "%matplotlib inline\n",
    "# %load_ext line_profiler"
   ]
  },
  {
   "cell_type": "code",
   "execution_count": 2,
   "metadata": {
    "collapsed": true
   },
   "outputs": [],
   "source": [
    "seed = 42\n",
    "epilson = 1e-8\n",
    "outdir = './logs'\n",
    "data_dir = './data/'\n",
    "save_dir = './save/'\n",
    "\n",
    "# Env params\n",
    "freq = 30\n",
    "obs_steps = 50\n",
    "tax = 0.0025\n",
    "init_fiat = 100.0\n",
    "init_crypto = 0.0\n",
    "test = True"
   ]
  },
  {
   "cell_type": "code",
   "execution_count": 3,
   "metadata": {
    "collapsed": true
   },
   "outputs": [],
   "source": [
    "def convert_and_clean(x):\n",
    "    x = x.apply(convert_to.decimal)\n",
    "    f = x.rolling(30, center=True, min_periods=1).mean().apply(convert_to.decimal)\n",
    "    x = x.apply(lambda x: x if x.is_finite() else np.nan)\n",
    "    return x.combine_first(f)    "
   ]
  },
  {
   "cell_type": "code",
   "execution_count": 4,
   "metadata": {},
   "outputs": [
    {
     "name": "stderr",
     "output_type": "stream",
     "text": [
      "INFO:Cryptocoin arbiter agent logging file:[train_env Apocalipse initialization]\n",
      "Apocalipse Initialized!\n",
      "ONLINE MODE: False\n",
      "\n",
      "\n",
      "INFO:Cryptocoin arbiter agent logging file:[<function Apocalipse.set_action_space at 0x7f3d654f2d90>]\n",
      "Setting environment with 6 symbols.\n",
      "\n",
      "INFO:Cryptocoin arbiter agent logging file:[test_env Apocalipse initialization]\n",
      "Apocalipse Initialized!\n",
      "ONLINE MODE: False\n",
      "\n",
      "\n",
      "INFO:Cryptocoin arbiter agent logging file:[<function Apocalipse.set_action_space at 0x7f3d654f2d90>]\n",
      "Setting environment with 6 symbols.\n",
      "\n"
     ]
    }
   ],
   "source": [
    "# Setup train environment\n",
    "train_env = Apocalipse(name='train_env', seed=seed)\n",
    "# Set environment options\n",
    "train_env.set_freq(freq)\n",
    "train_env.set_obs_steps(obs_steps)\n",
    "\n",
    "symbols = ['usdtbtc', 'usdteth', 'usdtetc', 'usdtxrp', 'usdtltc']\n",
    "for i, symbol in enumerate(symbols):\n",
    "    df = pd.read_csv(data_dir + symbol + '_fev_may.csv')\n",
    "    df['date'] = df.date.apply(pd.to_datetime)\n",
    "    df = df.set_index('date')\n",
    "    for col in df.columns:\n",
    "        df[col] = convert_and_clean(df[col])\n",
    "    train_env.add_df(df=df, symbol=symbol)\n",
    "    train_env.add_symbol(symbol)\n",
    "    train_env.set_init_crypto(init_crypto, symbol)\n",
    "    train_env.set_tax(tax, symbol)\n",
    "\n",
    "gc.collect()\n",
    "train_env.set_init_fiat(init_fiat)\n",
    "\n",
    "# Clean pools\n",
    "train_env._reset_status()\n",
    "train_env.clear_dfs()\n",
    "gc.collect()\n",
    "\n",
    "train_env.set_training_stage(True)\n",
    "train_env.set_observation_space()\n",
    "train_env.set_action_space()\n",
    "train_env.reset(reset_funds=True, reset_results=True, reset_global_step=True);\n",
    "\n",
    "# Setup test environment\n",
    "test_env = Apocalipse(name='test_env', seed=seed)\n",
    "# Set environment options\n",
    "test_env.set_freq(freq)\n",
    "test_env.set_obs_steps(obs_steps)\n",
    "\n",
    "symbols = ['usdtbtc', 'usdteth', 'usdtetc', 'usdtxrp', 'usdtltc']\n",
    "for i, symbol in enumerate(symbols):\n",
    "    df = pd.read_csv(data_dir + symbol + '_may.csv')\n",
    "    df['date'] = df.date.apply(pd.to_datetime)\n",
    "    df = df.set_index('date')\n",
    "    for col in df.columns:\n",
    "        df[col] = convert_and_clean(df[col])\n",
    "    test_env.add_df(df=df, symbol=symbol)\n",
    "    test_env.add_symbol(symbol)\n",
    "    test_env.set_init_crypto(init_crypto, symbol)\n",
    "    test_env.set_tax(tax, symbol)\n",
    "\n",
    "gc.collect()\n",
    "test_env.set_init_fiat(init_fiat)\n",
    "\n",
    "# Clean pools\n",
    "test_env._reset_status()\n",
    "test_env.clear_dfs()\n",
    "gc.collect()\n",
    "\n",
    "test_env.set_training_stage(False)\n",
    "test_env.set_observation_space()\n",
    "test_env.set_action_space()\n",
    "test_env.reset(reset_funds=True, reset_results=True, reset_global_step=True);"
   ]
  },
  {
   "cell_type": "code",
   "execution_count": 5,
   "metadata": {
    "collapsed": true
   },
   "outputs": [],
   "source": [
    "eiie = cn_models.EIIE(train_env.get_step_obs_all().shape, 128, 512)"
   ]
  },
  {
   "cell_type": "code",
   "execution_count": null,
   "metadata": {},
   "outputs": [],
   "source": [
    "optimizer = cn.optimizers.Adam(alpha=3e-3)\n",
    "l2_reg = cn.optimizer.WeightDecay(1e-2)\n",
    "optimizer.setup(eiie)\n",
    "optimizer.add_hook(l2_reg)"
   ]
  },
  {
   "cell_type": "code",
   "execution_count": null,
   "metadata": {
    "scrolled": false
   },
   "outputs": [
    {
     "name": "stdout",
     "output_type": "stream",
     "text": [
      "Training epoch 2001/1000000, loss: 0.00008754, r2: -0.020286, samples/sec: 33.8439287789\n",
      "New best score: -0.033666\n",
      "val loss: 0.0002, val r2 score: -0.0337\n",
      "Training epoch 4001/1000000, loss: 0.00012501, r2: -0.038642, samples/sec: 24.080963\n",
      "New best score: -0.032467\n",
      "val loss: 0.0002, val r2 score: -0.0325\n",
      "Training epoch 6001/1000000, loss: 0.00015903, r2: -0.010188, samples/sec: 24.228203\n",
      "val loss: 0.0002, val r2 score: -0.0359\n",
      "Training epoch 8001/1000000, loss: 0.00008065, r2: -0.016498, samples/sec: 24.416351\n",
      "val loss: 0.0002, val r2 score: -0.0347\n",
      "Training epoch 10001/1000000, loss: 0.00007054, r2: -0.034572, samples/sec: 24.409284\n",
      "val loss: 0.0002, val r2 score: -0.0336\n",
      "Training epoch 12001/1000000, loss: 0.00008389, r2: -0.035735, samples/sec: 24.380954\n",
      "val loss: 0.0002, val r2 score: -0.0343\n",
      "Training epoch 14001/1000000, loss: 0.00008011, r2: -0.025324, samples/sec: 24.360963\n",
      "val loss: 0.0002, val r2 score: -0.0353\n",
      "Training epoch 15542/1000000, loss: 0.00010362, r2: -0.024060, samples/sec: 24.346366\r"
     ]
    }
   ],
   "source": [
    "training_epochs = 1000000\n",
    "test_interval = 2000\n",
    "test_epochs = 512\n",
    "batch_size = 32\n",
    "\n",
    "def make_batch(env, batch_size):\n",
    "    obs_batch = []\n",
    "    target_batch = []\n",
    "    for i in range(batch_size):\n",
    "        # Choose some random index\n",
    "        env.step_idx = env.offset + np.random.randint(high=env.df.shape[0] - env.offset - 1, low=0)\n",
    "        # Get obs and target and append it to their batches\n",
    "        obs_batch.append(train_env.get_step_obs_all().values)\n",
    "\n",
    "        target = (env.df.loc(axis=1)[:,'close'].iloc[env.step_idx + 1].values /\n",
    "                  env.df.loc(axis=1)[:,'open'].iloc[env.step_idx + 1].values) - 1\n",
    "        target_batch.append(target.reshape([1,-1]))\n",
    "\n",
    "    obs_batch = cn_models.batch_states(obs_batch, np, cn_models.phi)\n",
    "    target_batch = np.swapaxes(cn_models.batch_states(target_batch, np, cn_models.phi), 3, 2)\n",
    "\n",
    "    return obs_batch, target_batch\n",
    "\n",
    "## Training loop\n",
    "t0 = 1e-8\n",
    "best_score = -np.inf\n",
    "train_r2_log = []\n",
    "train_loss_log = []\n",
    "test_r2_log = []\n",
    "test_loss_log = []\n",
    "for epoch in range(training_epochs):\n",
    "    try:\n",
    "        t1 = time()\n",
    "\n",
    "        if epoch == 0:\n",
    "            optimizer.hyperparam.alpha = 3e-3\n",
    "        elif epoch == 2000:\n",
    "            optimizer.hyperparam.alpha = 5e-4\n",
    "        elif epoch == 6000:\n",
    "            optimizer.hyperparam.alpha = 7e-5\n",
    "        elif epoch == 9000:\n",
    "            optimizer.hyperparam.alpha = 9e-6\n",
    "        elif epoch == 12000:\n",
    "            optimizer.hyperparam.alpha = 1e-6\n",
    "\n",
    "        obs_batch, target_train = make_batch(train_env, batch_size)\n",
    "\n",
    "        prediction_train = eiie(obs_batch)\n",
    "\n",
    "        loss = cn.functions.mean_squared_error(prediction_train, target_train)\n",
    "\n",
    "        eiie.cleargrads()\n",
    "        loss.backward()\n",
    "\n",
    "        optimizer.update()\n",
    "\n",
    "        train_r2 = cn.functions.r2_score(prediction_train, target_train)\n",
    "\n",
    "        train_loss_log.append(loss.data)\n",
    "        train_r2_log.append(train_r2.data)\n",
    "        \n",
    "        t0 += time() - t1\n",
    "        print(\"Training epoch %d/%d, loss: %.08f, r2: %f, samples/sec: %f\" % (epoch + 1,\n",
    "                                                                           training_epochs,\n",
    "                                                                           loss.data,\n",
    "                                                                           train_r2.data,\n",
    "                                                                           (epoch + 1) * batch_size / t0), end='\\r')\n",
    "\n",
    "        if epoch % test_interval == 0 and epoch != 0:\n",
    "            test_losses = []\n",
    "            test_scores = []\n",
    "            for _ in range(test_epochs):\n",
    "                test_batch, target_test = make_batch(test_env, batch_size)\n",
    "\n",
    "                # Forward the test data\n",
    "                prediction_test = eiie(test_batch)\n",
    "\n",
    "                # Calculate the loss\n",
    "                loss_test = cn.functions.mean_squared_error(prediction_test, target_test)\n",
    "                loss_test.to_cpu()\n",
    "                test_losses.append(loss_test.data)\n",
    "\n",
    "                # Calculate the accuracy\n",
    "                test_r2 = cn.functions.r2_score(prediction_test, target_test)\n",
    "                test_r2.to_cpu()\n",
    "                test_scores.append(test_r2.data)\n",
    "\n",
    "                test_loss_log.append(np.mean(test_losses))\n",
    "                test_r2_log.append(np.mean(test_scores))\n",
    "                \n",
    "            if np.mean(test_scores) > best_score:\n",
    "                best_score = np.mean(test_scores)\n",
    "                print(\"\\nNew best score:\", best_score, end='\\r')\n",
    "                cn.serializers.save_npz(save_dir + 'eiie0.1.npz', eiie, compression=True)\n",
    "\n",
    "            print('\\nval loss: {:.04f}, val r2 score: {:.04f}'.format(\n",
    "                np.mean(test_losses), np.mean(test_scores)))\n",
    "\n",
    "    except KeyboardInterrupt:\n",
    "        print(\"\\nInterrupted by the user. Best score:\", best_score)\n",
    "        break"
   ]
  },
  {
   "cell_type": "code",
   "execution_count": null,
   "metadata": {},
   "outputs": [],
   "source": [
    "act = cn_models.CashBias()\n",
    "\n",
    "train_env._reset_status()\n",
    "train_env.set_training_stage(False)\n",
    "train_env.reset(reset_funds=True, reset_results=True, reset_global_step=True);\n",
    "\n",
    "test_env._reset_status()\n",
    "test_env.set_training_stage(False)\n",
    "test_env.reset(reset_funds=True, reset_results=True, reset_global_step=True);\n",
    "\n",
    "# Load best model\n",
    "cn.serializers.load_npz(save_dir + 'eiie0.1.npz', obj=eiie)"
   ]
  },
  {
   "cell_type": "code",
   "execution_count": null,
   "metadata": {
    "scrolled": false
   },
   "outputs": [],
   "source": [
    "for i in range(train_env.df.shape[0] - obs_steps - 1):\n",
    "    action = act(eiie(cn_models.batch_states([train_env.get_step_obs_all().values], np, cn_models.phi)))\n",
    "    action = array_normalize(np.clip(action.data.flatten(), a_min=0.0, a_max=np.inf))\n",
    "    train_env.step(action)\n",
    "    print(\"Processing obs %d/%d\" % (i + 1, train_env.df.shape[0] - obs_steps - 1), end='\\r')\n",
    "train_env.plot_results(train_env._get_results());"
   ]
  },
  {
   "cell_type": "code",
   "execution_count": null,
   "metadata": {
    "scrolled": false
   },
   "outputs": [],
   "source": [
    "for i in range(test_env.df.shape[0] - obs_steps - 1):\n",
    "    action = act(eiie(cn_models.batch_states([test_env.get_step_obs_all().values], np, cn_models.phi)))\n",
    "    action = array_normalize(np.clip(action.data.flatten(), a_min=0.0, a_max=np.inf))\n",
    "    test_env.step(action)\n",
    "    print(\"Processing obs %d/%d\" % (i + 1, test_env.df.shape[0] - obs_steps - 1), end='\\r')\n",
    "test_env.plot_results(test_env._get_results());"
   ]
  }
 ],
 "metadata": {
  "kernelspec": {
   "display_name": "Python 3",
   "language": "python",
   "name": "python3"
  },
  "language_info": {
   "codemirror_mode": {
    "name": "ipython",
    "version": 3
   },
   "file_extension": ".py",
   "mimetype": "text/x-python",
   "name": "python",
   "nbconvert_exporter": "python",
   "pygments_lexer": "ipython3",
   "version": "3.6.2"
  }
 },
 "nbformat": 4,
 "nbformat_minor": 2
}
