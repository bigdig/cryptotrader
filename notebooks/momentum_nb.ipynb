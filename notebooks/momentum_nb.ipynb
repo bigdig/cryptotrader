{
 "cells": [
  {
   "cell_type": "code",
   "execution_count": 1,
   "metadata": {},
   "outputs": [
    {
     "data": {
      "text/html": [
       "\n",
       "    <div class=\"bk-root\">\n",
       "        <a href=\"https://bokeh.pydata.org\" target=\"_blank\" class=\"bk-logo bk-logo-small bk-logo-notebook\"></a>\n",
       "        <span id=\"a3d482e1-711d-4f4a-ad4e-28f3b2f19653\">Loading BokehJS ...</span>\n",
       "    </div>"
      ]
     },
     "metadata": {},
     "output_type": "execute_result"
    },
    {
     "data": {},
     "metadata": {},
     "output_type": "display_data"
    }
   ],
   "source": [
    "import gc\n",
    "gc.collect()\n",
    "\n",
    "import sys\n",
    "sys.path.insert(0, '../')\n",
    "import logging\n",
    "logging.basicConfig(level=logging.ERROR)\n",
    "\n",
    "import pandas as pd\n",
    "import numpy as np\n",
    "from datetime import datetime, timedelta\n",
    "\n",
    "from cryptotrader.exchange_api.poloniex import Poloniex\n",
    "from cryptotrader.envs.trading import BacktestDataFeed, BacktestEnvironment\n",
    "from cryptotrader.envs.utils import convert_and_clean, convert_to\n",
    "from cryptotrader.agents import apriori\n",
    "from cryptotrader.utils import array_normalize\n",
    "\n",
    "from time import time, sleep\n",
    "\n",
    "from bokeh.io import output_notebook\n",
    "output_notebook()\n",
    "%matplotlib inline\n",
    "%load_ext line_profiler"
   ]
  },
  {
   "cell_type": "code",
   "execution_count": null,
   "metadata": {},
   "outputs": [
    {
     "name": "stderr",
     "output_type": "stream",
     "text": [
      "INFO:backtest_env:[Trading Environment initialization]\n",
      "Trading Environment Initialized!\n",
      "\n"
     ]
    }
   ],
   "source": [
    "obs_steps = 300\n",
    "period = 30\n",
    "pairs = [\"USDT_BTC\", \"USDT_ETH\", \"USDT_LTC\", \"USDT_XRP\"]\n",
    "init_funds = {\"BTC\":'0.00000000', \"ETH\":'0.00000000', \"LTC\":'0.00000000', \"XRP\":'0.00000000', \"USDT\":'100.00000000'}\n",
    "\n",
    "tapi = Poloniex()\n",
    "tapi = BacktestDataFeed(tapi, period, pairs, init_funds)\n",
    "tapi.download_data(end=datetime.timestamp(datetime.utcnow() - timedelta(days=100)),\n",
    "                       start=datetime.timestamp(datetime.utcnow() - timedelta(days=150)))\n",
    "\n",
    "env = BacktestEnvironment(period, obs_steps, tapi, 'backtest_env')\n",
    "env.add_pairs(pairs)\n",
    "env.fiat = 'USDT'\n",
    "obs = env.reset()"
   ]
  },
  {
   "cell_type": "code",
   "execution_count": null,
   "metadata": {
    "scrolled": false
   },
   "outputs": [
    {
     "name": "stdout",
     "output_type": "stream",
     "text": [
      "Optimizing model for 200 steps with batch size 4...\n",
      "Optimization step 39/200, step reward: 0.0, ETC: 0 days 00:26:23.027660  00:26:06.774575  \r"
     ]
    }
   ],
   "source": [
    "# Training params\n",
    "nb_steps = 200\n",
    "batch_size = 4\n",
    "nb_max_episode_steps = 7\n",
    "\n",
    "agent = apriori.MomentumTrader()\n",
    "opt_params, info = agent.fit(env, nb_steps, batch_size, nb_max_episode_steps=nb_max_episode_steps)\n",
    "print(\"\\n\", opt_params,\"\\n\", env.status)\n",
    "\n",
    "# Previous parameters found\n",
    "# {'ma1': 39, 'ma2': 270, 'std_span': 299, 'std_weight_down': 1.9648256750026283, 'std_weight_up': 2.1424218749999993}\n",
    "# {'ma1': 3, 'ma2': 38, 'std_span': 174, 'std_weight_down': 1.4932605779664736, 'std_weight_up': 1.3837483170117275}\n",
    "# {'ma1': 25, 'ma2': 122, 'std_span': 292, 'std_weight_down': 1.38345703125, 'std_weight_up': 1.2510827681890813}\n",
    "# {'ma1': 25, 'ma2': 111, 'std_span': 208, 'std_weight_down': 1.9823828124999994, 'std_weight_up': 0.9757686982283079}\n",
    "\n",
    "# momentum_agent.set_params(**{'ma1': 25, 'ma2': 111, 'std_span': 208, 'std_weight_down': 1.9823828124999994, 'std_weight_up': 0.9757686982283079})\n",
    "agent.test(env, verbose=True)\n",
    "env.plot_results();"
   ]
  },
  {
   "cell_type": "code",
   "execution_count": null,
   "metadata": {
    "collapsed": true,
    "scrolled": false
   },
   "outputs": [],
   "source": [
    "tapi.download_data(end=datetime.timestamp(datetime.now()),\n",
    "                       start=datetime.timestamp(datetime.now() - timedelta(days=100)))\n",
    "\n",
    "agent.test(env, verbose=True)\n",
    "env.plot_results();"
   ]
  },
  {
   "cell_type": "code",
   "execution_count": null,
   "metadata": {
    "collapsed": true
   },
   "outputs": [],
   "source": []
  }
 ],
 "metadata": {
  "kernelspec": {
   "display_name": "Python 3",
   "language": "python",
   "name": "python3"
  },
  "language_info": {
   "codemirror_mode": {
    "name": "ipython",
    "version": 3
   },
   "file_extension": ".py",
   "mimetype": "text/x-python",
   "name": "python",
   "nbconvert_exporter": "python",
   "pygments_lexer": "ipython3",
   "version": "3.6.0"
  }
 },
 "nbformat": 4,
 "nbformat_minor": 2
}
