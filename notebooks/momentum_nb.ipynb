{
 "cells": [
  {
   "cell_type": "code",
   "execution_count": null,
   "metadata": {},
   "outputs": [],
   "source": [
    "import gc\n",
    "gc.collect()\n",
    "\n",
    "import sys\n",
    "sys.path.insert(0, '../')\n",
    "import logging\n",
    "logging.basicConfig(level=logging.ERROR)\n",
    "\n",
    "import pandas as pd\n",
    "import numpy as np\n",
    "from datetime import datetime, timedelta\n",
    "\n",
    "from cryptotrader.exchange_api.poloniex import Poloniex\n",
    "from cryptotrader.envs.trading import BacktestDataFeed, BacktestEnvironment\n",
    "from cryptotrader.envs.utils import make_balance, convert_to\n",
    "from cryptotrader.agents import apriori\n",
    "from cryptotrader.utils import array_normalize, simplex_proj\n",
    "\n",
    "from time import time, sleep\n",
    "\n",
    "from bokeh.io import output_notebook\n",
    "output_notebook()\n",
    "%matplotlib inline\n",
    "%load_ext line_profiler"
   ]
  },
  {
   "cell_type": "code",
   "execution_count": null,
   "metadata": {},
   "outputs": [],
   "source": [
    "# Environment setup\n",
    "obs_steps = 300\n",
    "period = 30\n",
    "pairs = [\"USDT_BTC\", \"USDT_ETH\", \"USDT_LTC\", \"USDT_XRP\", \"USDT_XMR\", \"USDT_ETC\", \"USDT_DASH\"]\n",
    "init_funds = make_balance(crypto=0.0, fiat=100.0, pairs=pairs)\n",
    "\n",
    "tapi = Poloniex()\n",
    "tapi = BacktestDataFeed(tapi, period, load_dir='./data', pairs=pairs, portfolio=init_funds)\n",
    "# tapi.download_data(end=datetime.timestamp(datetime.utcnow() - timedelta(days=100)),\n",
    "#                        start=datetime.timestamp(datetime.utcnow() - timedelta(days=200)))\n",
    "tapi.load_data('/train')\n",
    "\n",
    "env = BacktestEnvironment(period, obs_steps, tapi, 'backtest_env')\n",
    "env.add_pairs(pairs)\n",
    "env.fiat = 'USDT'\n",
    "obs = env.reset()"
   ]
  },
  {
   "cell_type": "code",
   "execution_count": null,
   "metadata": {
    "scrolled": false
   },
   "outputs": [],
   "source": [
    "# Training run\n",
    "# Training params\n",
    "nb_steps = 50\n",
    "batch_size = 2\n",
    "nb_max_episode_steps = 7\n",
    "\n",
    "agent = apriori.MomentumTrader(ma_span=[3,50], std_span=50, activation=simplex_proj)\n",
    "\n",
    "hp = {\n",
    "    'ma1': [2, env.obs_steps],\n",
    "    'ma2': [2, env.obs_steps],\n",
    "    'std_span': [2, env.obs_steps],\n",
    "    'alpha_up': [1e-4, 5e-1],\n",
    "    'alpha_down': [1e-4, 5e-1]\n",
    "    }\n",
    "\n",
    "search_space = {'mean_type':{'simple': hp,\n",
    "                             'exp': hp,\n",
    "                             'kama': hp\n",
    "                             }\n",
    "                }\n",
    "constrains = [lambda mean_type, ma1, ma2, std_span, alpha_up, alpha_down: ma1 < ma2]\n",
    "\n",
    "opt_params, info = agent.fit(env, nb_steps, batch_size, search_space, constrains, nb_max_episode_steps=nb_max_episode_steps)\n",
    "print(\"\\n\", opt_params,\"\\n\", env.status)\n",
    "\n",
    "# Previous found params:\n",
    "# {'mean_type': 'kama', 'alpha_down': 0.4128425807825884, 'alpha_up': 0.37140222586733046, 'ma1': 133, 'ma2': 234, 'std_span': 39}\n",
    "\n",
    "agent.test(env, verbose=True)\n",
    "env.plot_results();"
   ]
  },
  {
   "cell_type": "code",
   "execution_count": null,
   "metadata": {
    "scrolled": false
   },
   "outputs": [],
   "source": [
    "# Validation run\n",
    "# tapi.download_data(end=datetime.timestamp(datetime.now() - timedelta(days=50)),\n",
    "#                        start=datetime.timestamp(datetime.now() - timedelta(days=100)))\n",
    "env.tapi.load_data('/eval')\n",
    "agent.test(env, verbose=True)\n",
    "env.plot_results();"
   ]
  },
  {
   "cell_type": "code",
   "execution_count": null,
   "metadata": {
    "scrolled": false
   },
   "outputs": [],
   "source": [
    "# Test run\n",
    "# tapi.download_data(end=datetime.timestamp(datetime.now()),\n",
    "#                        start=datetime.timestamp(datetime.now() - timedelta(days=50)))\n",
    "env.tapi.load_data('/test')\n",
    "agent.test(env, verbose=True)\n",
    "env.plot_results();"
   ]
  }
 ],
 "metadata": {
  "kernelspec": {
   "display_name": "Python 3",
   "language": "python",
   "name": "python3"
  },
  "language_info": {
   "codemirror_mode": {
    "name": "ipython",
    "version": 3
   },
   "file_extension": ".py",
   "mimetype": "text/x-python",
   "name": "python",
   "nbconvert_exporter": "python",
   "pygments_lexer": "ipython3",
   "version": "3.6.0"
  }
 },
 "nbformat": 4,
 "nbformat_minor": 2
}
