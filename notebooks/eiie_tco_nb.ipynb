{
 "cells": [
  {
   "cell_type": "code",
   "execution_count": null,
   "metadata": {
    "collapsed": true
   },
   "outputs": [],
   "source": [
    "import gc\n",
    "gc.collect()\n",
    "\n",
    "import sys\n",
    "sys.path.insert(0, '../')\n",
    "import logging\n",
    "logging.basicConfig(level=logging.ERROR)\n",
    "\n",
    "import pandas as pd\n",
    "import numpy as np\n",
    "np.random.seed(42)\n",
    "from datetime import datetime, timedelta\n",
    "from time import time\n",
    "\n",
    "from cryptotrader.exchange_api.poloniex import Poloniex\n",
    "from cryptotrader.envs.trading import BacktestDataFeed, BacktestEnvironment\n",
    "from cryptotrader.envs.utils import make_balance, convert_to\n",
    "from cryptotrader.models import cn_models\n",
    "from cryptotrader.utils import array_normalize\n",
    "from cryptotrader.agents.apriori import TCOTrader\n",
    "\n",
    "import chainer as cn\n",
    "\n",
    "import matplotlib.pyplot as plt\n",
    "from bokeh.io import output_notebook\n",
    "from jupyterthemes import jtplot\n",
    "output_notebook()\n",
    "jtplot.style()\n",
    "%matplotlib inline\n",
    "# %load_ext line_profiler"
   ]
  },
  {
   "cell_type": "code",
   "execution_count": null,
   "metadata": {
    "collapsed": true
   },
   "outputs": [],
   "source": [
    "# Simulation Params\n",
    "test_name = 'EIIETCO_agent'\n",
    "obs_steps = 40 # Observation steps, number of candles required by the agent for calculations\n",
    "period = 120 # Observation period in minutes, also trading frequency\n",
    "pairs = [\"USDT_BTC\", \"USDT_ETH\", \"USDT_LTC\", \"USDT_XRP\", \"USDT_XMR\", \"USDT_ETC\", \"USDT_ZEC\", \"USDT_DASH\"] # Universe, some survivor bias here...\n",
    "fiat_symbol = 'USDT' # Quote symbol\n",
    "init_funds = make_balance(crypto=0.0, fiat=100.0, pairs=pairs) # Initial equally distributed portfolio\n",
    "data_dir = './data' # Data directory for offline testing"
   ]
  },
  {
   "cell_type": "code",
   "execution_count": null,
   "metadata": {
    "collapsed": true
   },
   "outputs": [],
   "source": [
    "## Environment setup\n",
    "# Data feed setup\n",
    "papi = Poloniex()\n",
    "tapi = BacktestDataFeed(papi, period, pairs=pairs, balance=init_funds, load_dir=data_dir)\n",
    "\n",
    "# Download new data from the exchange\n",
    "# tapi.download_data(end=datetime.timestamp(datetime.utcnow() - timedelta(days=100)),\n",
    "#                        start=datetime.timestamp(datetime.utcnow() - timedelta(days=300)))\n",
    "\n",
    "# # And save it to disk, if you want to\n",
    "# tapi.save_data(data_dir + '/train')\n",
    "\n",
    "# Or load data from disk\n",
    "tapi.load_data('/train')\n",
    "\n",
    "# Environment setup\n",
    "env = BacktestEnvironment(period, obs_steps, tapi, fiat_symbol, test_name)\n",
    "obs = env.reset();\n",
    "\n",
    "# Setup eval ent\n",
    "# Or load data from disk\n",
    "tapi = BacktestDataFeed(papi, period, pairs=pairs, balance=init_funds, load_dir=data_dir)\n",
    "tapi.load_data('/eval')\n",
    "\n",
    "# Environment setup\n",
    "eval_env = BacktestEnvironment(period, obs_steps, tapi, fiat_symbol, test_name)\n",
    "eval_env.reset();"
   ]
  },
  {
   "cell_type": "code",
   "execution_count": null,
   "metadata": {
    "collapsed": true
   },
   "outputs": [],
   "source": [
    "# NN params\n",
    "timesteps = obs.shape[0] - 1\n",
    "n_filters_in = 8\n",
    "n_filters_out = 64\n",
    "lr = 1e-3\n",
    "lr_decay_period = 1000\n",
    "l2_reg = 1e-6\n",
    "target_type = 'classifier'\n",
    "train_epochs = 1000000\n",
    "test_interval = 500\n",
    "test_epochs = 128\n",
    "batch_size = 4\n",
    "save_dir = './save/'"
   ]
  },
  {
   "cell_type": "code",
   "execution_count": null,
   "metadata": {
    "collapsed": true
   },
   "outputs": [],
   "source": [
    "# NN setup\n",
    "eiie = cn_models.EIIE(timesteps, n_filters_in, n_filters_out)\n",
    "optimizer = cn.optimizers.Adam(alpha=lr)\n",
    "l2_reg = cn.optimizer.WeightDecay(l2_reg)\n",
    "optimizer.setup(eiie)\n",
    "optimizer.add_hook(l2_reg)\n",
    "name = 'eiie'"
   ]
  },
  {
   "cell_type": "code",
   "execution_count": null,
   "metadata": {
    "collapsed": true,
    "scrolled": false
   },
   "outputs": [],
   "source": [
    "# Train NN\n",
    "cn.serializers.load_npz(save_dir + 'eiie.npz', obj=eiie)\n",
    "\n",
    "cn_models.train_nn(eiie, env, eval_env, optimizer, batch_size, lr_decay_period,\n",
    "                   train_epochs, test_interval, test_epochs, target_type, save_dir, name)"
   ]
  },
  {
   "cell_type": "code",
   "execution_count": null,
   "metadata": {
    "collapsed": true,
    "scrolled": false
   },
   "outputs": [],
   "source": [
    "# Agent Setup\n",
    "cn.serializers.load_npz(save_dir + 'eiie.npz', obj=eiie)\n",
    "agent = TCOTrader(predictor=eiie.predict, toff=0.001)\n",
    "\n",
    "# Optimization params\n",
    "nb_steps = 100\n",
    "batch_size = 1\n",
    "nb_max_episode_steps = 7\n",
    "\n",
    "# Params search space\n",
    "search_space = {'toff': [1e-8, 1e-1]}\n",
    "\n",
    "# Optimization session, this may take some time\n",
    "opt_params, info = agent.fit(env, nb_steps, batch_size, search_space, nb_max_episode_steps=nb_max_episode_steps)\n",
    "print(\"\\n\", opt_params,\"\\n\", env.status)\n",
    "\n",
    "# Run on training data\n",
    "agent.test(eval_env, verbose=True)\n",
    "# Display results\n",
    "eval_env.plot_results();"
   ]
  }
 ],
 "metadata": {
  "kernelspec": {
   "display_name": "Python 3",
   "language": "python",
   "name": "python3"
  },
  "language_info": {
   "codemirror_mode": {
    "name": "ipython",
    "version": 3
   },
   "file_extension": ".py",
   "mimetype": "text/x-python",
   "name": "python",
   "nbconvert_exporter": "python",
   "pygments_lexer": "ipython3",
   "version": "3.6.0"
  }
 },
 "nbformat": 4,
 "nbformat_minor": 2
}
