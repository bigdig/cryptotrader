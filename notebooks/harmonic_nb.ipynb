{
 "cells": [
  {
   "cell_type": "code",
   "execution_count": null,
   "metadata": {
    "collapsed": true
   },
   "outputs": [],
   "source": [
    "import gc\n",
    "gc.collect()\n",
    "\n",
    "import sys\n",
    "sys.path.insert(0, '../')\n",
    "import logging\n",
    "logging.basicConfig(level=logging.ERROR)\n",
    "\n",
    "from datetime import datetime, timedelta\n",
    "\n",
    "from cryptotrader.exchange_api.poloniex import Poloniex\n",
    "from cryptotrader.envs.trading import BacktestDataFeed, BacktestEnvironment\n",
    "from cryptotrader.envs.utils import make_balance, convert_to\n",
    "from cryptotrader.agents import apriori\n",
    "from cryptotrader.utils import array_normalize, simplex_proj\n",
    "\n",
    "from bokeh.io import output_notebook\n",
    "from jupyterthemes import jtplot\n",
    "output_notebook()\n",
    "jtplot.style()\n",
    "%matplotlib inline"
   ]
  },
  {
   "cell_type": "code",
   "execution_count": null,
   "metadata": {
    "collapsed": true
   },
   "outputs": [],
   "source": [
    "# Simulation Params\n",
    "test_name = 'Fibonacci_agent'\n",
    "obs_steps = 300 # Observation steps, number of candles required by the agent for calculations\n",
    "period = 120 # Observation period in minutes, also trading frequency\n",
    "pairs = [\"USDT_BTC\", \"USDT_ETH\", \"USDT_LTC\", \"USDT_XRP\", \"USDT_XMR\", \"USDT_ETC\", \"USDT_ZEC\", \"USDT_DASH\"] # Universe\n",
    "fiat_symbol = 'USDT' # Quote symbol\n",
    "# Initial portfolio\n",
    "init_funds = make_balance(crypto=1 / len(pairs), fiat=0.0, pairs=pairs)\n",
    "# init_funds = make_balance(crypto=0.0, fiat=100.0, pairs=pairs) # Full fiat\n",
    "data_dir = './data' # Data directory for offline testing"
   ]
  },
  {
   "cell_type": "code",
   "execution_count": null,
   "metadata": {
    "collapsed": true
   },
   "outputs": [],
   "source": [
    "## Environment setup\n",
    "# Data feed setup\n",
    "tapi = Poloniex()\n",
    "tapi = BacktestDataFeed(tapi, period, pairs=pairs, balance=init_funds, load_dir=data_dir)\n",
    "\n",
    "# Download new data from the exchange\n",
    "tapi.download_data(end=datetime.timestamp(datetime.utcnow() - timedelta(days=100)),\n",
    "                       start=datetime.timestamp(datetime.utcnow() - timedelta(days=300)))\n",
    "\n",
    "# And save it to disk, if you want to\n",
    "# tapi.save_data(data_dir + '/train')\n",
    "\n",
    "# Or load data from disk\n",
    "# tapi.load_data('/train')\n",
    "\n",
    "# Environment setup\n",
    "env = BacktestEnvironment(period, obs_steps, tapi, test_name)\n",
    "env.add_pairs(pairs)\n",
    "env.fiat = fiat_symbol\n",
    "obs = env.reset()\n",
    "\n",
    "# Agent setup\n",
    "agent = apriori.HarmonicTrader(activation=simplex_proj)"
   ]
  },
  {
   "cell_type": "code",
   "execution_count": null,
   "metadata": {
    "collapsed": true,
    "scrolled": false
   },
   "outputs": [],
   "source": [
    "# Training run\n",
    "# Optimization params\n",
    "nb_steps = 100\n",
    "batch_size = 1\n",
    "nb_max_episode_steps = 66\n",
    "\n",
    "# Params search space\n",
    "search_space = {\n",
    "                'err_allowed':[1e-8, 1e-1],\n",
    "                'peak_order':[1, 20],\n",
    "                'alpha_up':[1e-1, 1],\n",
    "                'alpha_down':[1e-1, 1],\n",
    "                'decay':[0.9, 1.0]\n",
    "                }\n",
    "\n",
    "# Optimization session, this may take some time\n",
    "params, info = agent.fit(env, nb_steps, batch_size, search_space, nb_max_episode_steps=nb_max_episode_steps, verbose=True)\n",
    "print(\"\\n\",params,\"\\n\", env.status)\n",
    "\n",
    "# Run on training data\n",
    "agent.test(env, verbose=True)\n",
    "# Display results\n",
    "env.plot_results();"
   ]
  },
  {
   "cell_type": "code",
   "execution_count": null,
   "metadata": {
    "collapsed": true,
    "scrolled": false
   },
   "outputs": [],
   "source": [
    "# Validation run\n",
    "# Download data\n",
    "tapi.download_data(end=datetime.timestamp(datetime.now() - timedelta(days=50)),\n",
    "                       start=datetime.timestamp(datetime.now() - timedelta(days=100)))\n",
    "\n",
    "# or load from disk\n",
    "# env.tapi.load_data('/eval')\n",
    "\n",
    "# Run evaluation\n",
    "agent.test(env, verbose=True)\n",
    "# Show results\n",
    "env.plot_results();"
   ]
  },
  {
   "cell_type": "code",
   "execution_count": null,
   "metadata": {
    "collapsed": true,
    "scrolled": false
   },
   "outputs": [],
   "source": [
    "# Test run\n",
    "# Download data\n",
    "tapi.download_data(end=datetime.timestamp(datetime.now()),\n",
    "                       start=datetime.timestamp(datetime.now() - timedelta(days=50)))\n",
    "# Or load form disk\n",
    "# env.tapi.load_data('/test')\n",
    "# Run test\n",
    "agent.test(env, verbose=True)\n",
    "# Show results\n",
    "env.plot_results();"
   ]
  }
 ],
 "metadata": {
  "kernelspec": {
   "display_name": "Python 3",
   "language": "python",
   "name": "python3"
  },
  "language_info": {
   "codemirror_mode": {
    "name": "ipython",
    "version": 3
   },
   "file_extension": ".py",
   "mimetype": "text/x-python",
   "name": "python",
   "nbconvert_exporter": "python",
   "pygments_lexer": "ipython3",
   "version": "3.6.0"
  }
 },
 "nbformat": 4,
 "nbformat_minor": 2
}
