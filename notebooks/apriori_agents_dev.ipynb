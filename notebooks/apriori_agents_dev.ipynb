{
 "cells": [
  {
   "cell_type": "code",
   "execution_count": null,
   "metadata": {},
   "outputs": [],
   "source": [
    "import sys\n",
    "sys.path.insert(0, '../')\n",
    "import gc\n",
    "import logging\n",
    "logging.basicConfig(level=logging.DEBUG)\n",
    "\n",
    "from cryptotrader.envs.driver import TrainingEnvironment, make_env\n",
    "from cryptotrader.agents import apriori\n",
    "from cryptotrader.random_process import ConstrainedOrnsteinUhlenbeckProcess\n",
    "from cryptotrader.envs.utils import  get_historical, get_dfs_from_db\n",
    "from cryptotrader.utils import convert_to, array_normalize, convert_and_clean\n",
    "\n",
    "import pandas as pd\n",
    "import pymongo as pm\n",
    "from bokeh.io import output_notebook\n",
    "from jupyterthemes import jtplot\n",
    "output_notebook()\n",
    "jtplot.style()\n",
    "%matplotlib inline\n",
    "import os\n",
    "import numpy as np\n",
    "np.random.seed(42)\n",
    "\n",
    "# %load_ext line_profiler"
   ]
  },
  {
   "cell_type": "code",
   "execution_count": null,
   "metadata": {
    "collapsed": true
   },
   "outputs": [],
   "source": [
    "seed = 42\n",
    "outdir = './logs'\n",
    "data_dir = './data/'\n",
    "# files = []\n",
    "# for file in os.listdir(data_dir):\n",
    "#     files.append(data_dir + file)\n",
    "\n",
    "# Env params\n",
    "freq = 30\n",
    "obs_steps = 300\n",
    "tax = 0.0025\n",
    "init_fiat = 100.0\n",
    "init_crypto = 0.0\n",
    "max_eval_steps = 30\n",
    "eval_runs = 300\n",
    "batch_size = 16\n",
    "test = True"
   ]
  },
  {
   "cell_type": "code",
   "execution_count": null,
   "metadata": {
    "collapsed": true
   },
   "outputs": [],
   "source": [
    "# client = pm.MongoClient(host='192.168.1.100', port=27017, connect=True)\n",
    "# db = client.db\n",
    "\n",
    "# env = Apocalipse(name='poloniex_momentum_outofsample', seed=seed)\n",
    "# # Set environment options\n",
    "# env.set_freq(freq)\n",
    "# env.set_obs_steps(obs_steps)\n",
    "\n",
    "# symbols, dfs = get_dfs_from_db(db, 'poloniex', start='2017-02-00 00:00:00', end='2017-05-00 00:00:00', freq=str(freq) + 'min')  \n",
    "\n",
    "# # Add backtest data\n",
    "# for i, symbol in enumerate(symbols):\n",
    "#     for col in dfs[i].columns:\n",
    "#         dfs[i][col] = convert_and_clean(dfs[i][col])\n",
    "#     env.add_df(df=dfs[i], symbol=symbol)\n",
    "#     env.add_symbol(symbol)\n",
    "#     env.set_init_crypto(init_crypto, symbol)\n",
    "#     env.set_tax(tax, symbol)\n",
    "# # del dfs, symbols\n",
    "\n",
    "# gc.collect()\n",
    "# env.set_init_fiat(init_fiat)\n",
    "\n",
    "# # Clean pools\n",
    "# env._reset_status()\n",
    "# env.clear_dfs()\n",
    "# gc.collect()\n",
    "\n",
    "# env.set_training_stage(False)\n",
    "# env.set_observation_space()\n",
    "# env.set_action_space()\n",
    "# env.reset(reset_funds=True, reset_results=True, reset_global_step=True);"
   ]
  },
  {
   "cell_type": "code",
   "execution_count": null,
   "metadata": {},
   "outputs": [],
   "source": [
    "env = TrainingEnvironment(name='poloniex_momentum_backtest', seed=seed)\n",
    "# Set environment options\n",
    "env.set_freq(freq)\n",
    "env.set_obs_steps(obs_steps)\n",
    "\n",
    "symbols = ['usdtbtc', 'usdteth', 'usdtetc', 'usdtxrp', 'usdtltc']\n",
    "for i, symbol in enumerate(symbols):\n",
    "    # \n",
    "    df = pd.read_csv(data_dir + symbol + '_fev_may.csv')\n",
    "    df['date'] = df.date.apply(pd.to_datetime)\n",
    "    df = df.set_index('date')\n",
    "    for col in df.columns:\n",
    "        df[col] = convert_and_clean(df[col])\n",
    "    env.add_df(df=df, symbol=symbol)\n",
    "    env.add_symbol(symbol)\n",
    "    \n",
    "    env.set_init_crypto(init_crypto, symbol)\n",
    "    env.set_tax(tax, symbol)\n",
    "\n",
    "gc.collect()\n",
    "env.set_init_fiat(init_fiat)\n",
    "\n",
    "# Clean pools\n",
    "env._reset_status()\n",
    "env.clear_dfs()\n",
    "gc.collect()\n",
    "\n",
    "env.set_training_stage(False)\n",
    "env.set_observation_space()\n",
    "env.set_action_space()\n",
    "env.reset(reset_funds=True, reset_results=True, reset_global_step=True);"
   ]
  },
  {
   "cell_type": "code",
   "execution_count": null,
   "metadata": {
    "scrolled": false
   },
   "outputs": [],
   "source": [
    "random_process = ConstrainedOrnsteinUhlenbeckProcess(theta=1.0, size=env.action_space.low.shape[0])\n",
    "random_agent = apriori.DummyTrader(random_process=random_process)\n",
    "\n",
    "env.reset(reset_funds=True, reset_results=True, reset_global_step=True)\n",
    "random_agent.test(env, nb_episodes=1, action_repetition=1, callbacks=None,\n",
    "            visualize=False, nb_max_episode_steps=None, nb_max_start_steps=0, start_step_policy=None, verbose=True)\n",
    "\n",
    "env.plot_results(env._get_results());"
   ]
  },
  {
   "cell_type": "code",
   "execution_count": null,
   "metadata": {
    "scrolled": false
   },
   "outputs": [],
   "source": [
    "ed_agent = apriori.EqualyDistributedTrader()\n",
    "env.set_training_stage(False)\n",
    "env.reset(reset_funds=True, reset_results=True, reset_global_step=True)\n",
    "ed_agent.test(env, verbose=True)\n",
    "\n",
    "env.plot_results(env._get_results());"
   ]
  },
  {
   "cell_type": "code",
   "execution_count": null,
   "metadata": {
    "scrolled": false
   },
   "outputs": [],
   "source": [
    "# Optimize model hiperparameters\n",
    "momentum_agent = apriori.MomentumTrader()\n",
    "\n",
    "env.set_training_stage(True)\n",
    "env.reset(reset_funds=True, reset_results=True, reset_global_step=True)\n",
    "\n",
    "opt_params, info = momentum_agent.fit(env, eval_runs, batch_size, action_repetition=1, callbacks=None, verbose=True,\n",
    "            visualize=False, nb_max_start_steps=0, start_step_policy=None, log_interval=10000,\n",
    "            nb_max_episode_steps=max_eval_steps, n_workers=4)\n",
    "print(\"\\nOptimum parameters:\", opt_params)\n",
    "\n",
    "env.set_training_stage(False)\n",
    "env.reset(reset_funds=True, reset_global_step=True, reset_results=True)\n",
    "\n",
    "# Previous parameters found\n",
    "# {'ma1': 39, 'ma2': 270, 'std_span': 299, 'std_weight_down': 1.9648256750026283, 'std_weight_up': 2.1424218749999993}\n",
    "# {'ma1': 3, 'ma2': 38, 'std_span': 174, 'std_weight_down': 1.4932605779664736, 'std_weight_up': 1.3837483170117275}\n",
    "# {'ma1': 25, 'ma2': 122, 'std_span': 292, 'std_weight_down': 1.38345703125, 'std_weight_up': 1.2510827681890813}\n",
    "\n",
    "# momentum_agent.set_params(**{'ma1': 38, 'ma2': 270, 'std_span': 292, 'std_weight_down': 1.38345703125, 'std_weight_up': 1.2510827681890813})\n",
    "momentum_agent.test(env, nb_episodes=1, action_repetition=1, callbacks=None,\n",
    "            visualize=False, nb_max_episode_steps=None, nb_max_start_steps=0, start_step_policy=None, verbose=True)\n",
    "\n",
    "print(\"\\nEnv params: \\nInit fiat: {}\\nInit crypto: {}\\nFreq: {}\".format(env.init_fiat, env.init_crypto, env.freq))\n",
    "env.plot_results(env._get_results());"
   ]
  },
  {
   "cell_type": "code",
   "execution_count": null,
   "metadata": {
    "collapsed": true,
    "scrolled": false
   },
   "outputs": [],
   "source": [
    "# # Optimize model hiperparameters\n",
    "mesa_agent = apriori.MesaMomentumTrader()\n",
    "\n",
    "env.set_training_stage(True)\n",
    "env.reset(reset_funds=True, reset_results=True, reset_global_step=True)\n",
    "\n",
    "opt_params, info = mesa_agent.fit(env, eval_runs, action_repetition=1, callbacks=None, verbose=True,\n",
    "            visualize=False, nb_max_start_steps=0, start_step_policy=None, log_interval=10000,\n",
    "            nb_max_episode_steps=max_eval_steps)\n",
    "\n",
    "print(\"\\nOptimum parameters:\", opt_params)\n",
    "env.set_training_stage(False)\n",
    "env.reset(reset_funds=True, reset_global_step=True, reset_results=True)\n",
    "\n",
    "mesa_agent.test(env, nb_episodes=1, action_repetition=1, callbacks=None,\n",
    "            visualize=False, nb_max_episode_steps=None, nb_max_start_steps=0, start_step_policy=None, verbose=True)\n",
    "\n",
    "print(\"\\nEnv params: \\nInit fiat: {}\\nInit crypto: {}\\nFreq: {}\".format(env.init_fiat, env.init_crypto, env.freq))\n",
    "env.plot_results(env._get_results());"
   ]
  },
  {
   "cell_type": "code",
   "execution_count": null,
   "metadata": {
    "collapsed": true
   },
   "outputs": [],
   "source": [
    "env = TrainingEnvironment(name='poloniex_momentum_oos', seed=seed)\n",
    "# Set environment options\n",
    "env.set_freq(freq)\n",
    "env.set_obs_steps(obs_steps)\n",
    "\n",
    "symbols = ['usdtbtc', 'usdteth', 'usdtetc', 'usdtxrp', 'usdtltc']\n",
    "for i, symbol in enumerate(symbols):\n",
    "    df = pd.read_csv(data_dir + symbol + '_may.csv')\n",
    "    df['date'] = df.date.apply(pd.to_datetime)\n",
    "    df = df.set_index('date')\n",
    "    for col in df.columns:\n",
    "        df[col] = convert_and_clean(df[col])\n",
    "    env.add_df(df=df, symbol=symbol)\n",
    "    env.add_symbol(symbol)\n",
    "    env.set_init_crypto(init_crypto, symbol)\n",
    "    env.set_tax(tax, symbol)\n",
    "\n",
    "gc.collect()\n",
    "env.set_init_fiat(init_fiat)\n",
    "\n",
    "# Clean pools\n",
    "env._reset_status()\n",
    "env.clear_dfs()\n",
    "gc.collect()\n",
    "\n",
    "env.set_training_stage(False)\n",
    "env.set_observation_space()\n",
    "env.set_action_space()\n",
    "env.reset(reset_funds=True, reset_results=True, reset_global_step=True);"
   ]
  },
  {
   "cell_type": "code",
   "execution_count": null,
   "metadata": {
    "collapsed": true,
    "scrolled": false
   },
   "outputs": [],
   "source": [
    "momentum_agent.test(env, nb_episodes=1, action_repetition=1, callbacks=None,\n",
    "            visualize=False, nb_max_episode_steps=None, nb_max_start_steps=0, start_step_policy=None, verbose=True)\n",
    "\n",
    "print(\"\\nEnv params: \\nInit fiat: {}\\nInit crypto: {}\\nFreq: {}\".format(env.init_fiat, env.init_crypto, env.freq))\n",
    "env.plot_results(env._get_results());"
   ]
  },
  {
   "cell_type": "code",
   "execution_count": null,
   "metadata": {
    "collapsed": true,
    "scrolled": false
   },
   "outputs": [],
   "source": [
    "mesa_agent.test(env, nb_episodes=1, action_repetition=1, callbacks=None,\n",
    "            visualize=False, nb_max_episode_steps=None, nb_max_start_steps=0, start_step_policy=None, verbose=True)\n",
    "\n",
    "print(\"\\nEnv params: \\nInit fiat: {}\\nInit crypto: {}\\nFreq: {}\".format(env.init_fiat, env.init_crypto, env.freq))\n",
    "env.plot_results(env._get_results());"
   ]
  },
  {
   "cell_type": "code",
   "execution_count": null,
   "metadata": {
    "collapsed": true
   },
   "outputs": [],
   "source": []
  }
 ],
 "metadata": {
  "kernelspec": {
   "display_name": "Python 3",
   "language": "python",
   "name": "python3"
  },
  "language_info": {
   "codemirror_mode": {
    "name": "ipython",
    "version": 3
   },
   "file_extension": ".py",
   "mimetype": "text/x-python",
   "name": "python",
   "nbconvert_exporter": "python",
   "pygments_lexer": "ipython3",
   "version": "3.6.0"
  }
 },
 "nbformat": 4,
 "nbformat_minor": 2
}
