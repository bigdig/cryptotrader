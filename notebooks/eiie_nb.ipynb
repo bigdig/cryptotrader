{
 "cells": [
  {
   "cell_type": "code",
   "execution_count": 1,
   "metadata": {},
   "outputs": [
    {
     "data": {
      "text/html": [
       "\n",
       "    <div class=\"bk-root\">\n",
       "        <a href=\"https://bokeh.pydata.org\" target=\"_blank\" class=\"bk-logo bk-logo-small bk-logo-notebook\"></a>\n",
       "        <span id=\"0e38a2dd-c74d-46d9-907f-5f467b52ad3e\">Loading BokehJS ...</span>\n",
       "    </div>"
      ]
     },
     "metadata": {},
     "output_type": "execute_result"
    },
    {
     "data": {},
     "metadata": {},
     "output_type": "display_data"
    }
   ],
   "source": [
    "import gc\n",
    "gc.collect()\n",
    "\n",
    "import sys\n",
    "sys.path.insert(0, '../')\n",
    "import logging\n",
    "logging.basicConfig(level=logging.ERROR)\n",
    "\n",
    "import pandas as pd\n",
    "import numpy as np\n",
    "np.random.seed(42)\n",
    "from datetime import datetime, timedelta\n",
    "from time import time\n",
    "\n",
    "from cryptotrader.exchange_api.poloniex import Poloniex\n",
    "from cryptotrader.envs.trading import BacktestDataFeed, BacktestEnvironment\n",
    "from cryptotrader.envs.utils import convert_and_clean, convert_to\n",
    "from cryptotrader.models import cn_models\n",
    "from cryptotrader.utils import array_normalize\n",
    "\n",
    "import chainer as cn\n",
    "\n",
    "import matplotlib.pyplot as plt\n",
    "from bokeh.io import output_notebook\n",
    "from jupyterthemes import jtplot\n",
    "output_notebook()\n",
    "jtplot.style()\n",
    "%matplotlib inline\n",
    "%load_ext line_profiler"
   ]
  },
  {
   "cell_type": "code",
   "execution_count": 2,
   "metadata": {},
   "outputs": [
    {
     "name": "stderr",
     "output_type": "stream",
     "text": [
      "INFO:backtest_env:[Trading Environment initialization]\n",
      "Trading Environment Initialized!\n",
      "\n",
      "INFO:backtest_env:[Trading Environment initialization]\n",
      "Trading Environment Initialized!\n",
      "\n"
     ]
    }
   ],
   "source": [
    "obs_steps = 50\n",
    "period = 30\n",
    "pairs = [\"USDT_BTC\", \"USDT_ETH\", \"USDT_LTC\", \"USDT_XRP\"]\n",
    "init_funds = {\"BTC\":'0.00000000', \"ETH\":'0.00000000', \"LTC\":'0.00000000', \"XRP\":'1.00000000', \"USDT\":'1.00000000'}\n",
    "\n",
    "tapi = Poloniex()\n",
    "tapi = BacktestDataFeed(tapi, period, pairs, init_funds)\n",
    "tapi.download_data(end=datetime.timestamp(datetime.utcnow() - timedelta(days=100)),\n",
    "                       start=datetime.timestamp(datetime.utcnow() - timedelta(days=150)))\n",
    "\n",
    "env = BacktestEnvironment(period, obs_steps, tapi, 'backtest_env')\n",
    "env.add_pairs(pairs)\n",
    "env.fiat = 'USDT'\n",
    "obs = env.reset()\n",
    "\n",
    "tapi.download_data(end=datetime.timestamp(datetime.utcnow() - timedelta(days=50)),\n",
    "                       start=datetime.timestamp(datetime.utcnow() - timedelta(days=100)))\n",
    "\n",
    "test_env = BacktestEnvironment(period, obs_steps, tapi, 'backtest_env')\n",
    "test_env.add_pairs(pairs)\n",
    "test_env.fiat = 'USDT'\n",
    "test_env.reset(); "
   ]
  },
  {
   "cell_type": "code",
   "execution_count": 3,
   "metadata": {
    "collapsed": true
   },
   "outputs": [],
   "source": [
    "eiie = cn_models.EIIE(env.get_observation(True).shape[0] - 1, 4, 32)"
   ]
  },
  {
   "cell_type": "code",
   "execution_count": 4,
   "metadata": {
    "collapsed": true
   },
   "outputs": [],
   "source": [
    "optimizer = cn.optimizers.Adam(alpha=3e-3)\n",
    "l2_reg = cn.optimizer.WeightDecay(1e-2)\n",
    "optimizer.setup(eiie)\n",
    "optimizer.add_hook(l2_reg)"
   ]
  },
  {
   "cell_type": "code",
   "execution_count": 6,
   "metadata": {
    "scrolled": false
   },
   "outputs": [
    {
     "name": "stdout",
     "output_type": "stream",
     "text": [
      "Training epoch 5/1000000, loss: 0.45923206, r2: -6363.734375, samples/sec: 5.3950649\n",
      "Interrupted by the user. Best score: -inf\n"
     ]
    }
   ],
   "source": [
    "train_epochs = 1000000\n",
    "test_interval = 2000\n",
    "test_epochs = 256\n",
    "batch_size = 8\n",
    "save_dir = './save/'\n",
    "\n",
    "# cn.serializers.load_npz(save_dir + 'eiie.npz', obj=eiie)\n",
    "\n",
    "cn_models.train_nn(eiie, env, test_env, optimizer, batch_size, train_epochs, test_interval, test_epochs, save_dir, 'eiie')"
   ]
  }
 ],
 "metadata": {
  "kernelspec": {
   "display_name": "Python 3",
   "language": "python",
   "name": "python3"
  },
  "language_info": {
   "codemirror_mode": {
    "name": "ipython",
    "version": 3
   },
   "file_extension": ".py",
   "mimetype": "text/x-python",
   "name": "python",
   "nbconvert_exporter": "python",
   "pygments_lexer": "ipython3",
   "version": "3.6.0"
  }
 },
 "nbformat": 4,
 "nbformat_minor": 2
}
