{
 "cells": [
  {
   "cell_type": "code",
   "execution_count": 1,
   "metadata": {},
   "outputs": [
    {
     "data": {
      "text/html": [
       "\n",
       "    <div class=\"bk-root\">\n",
       "        <a href=\"https://bokeh.pydata.org\" target=\"_blank\" class=\"bk-logo bk-logo-small bk-logo-notebook\"></a>\n",
       "        <span id=\"87ded97a-9f45-41e8-b149-b6ab546d004c\">Loading BokehJS ...</span>\n",
       "    </div>"
      ]
     },
     "metadata": {},
     "output_type": "execute_result"
    },
    {
     "data": {},
     "metadata": {},
     "output_type": "display_data"
    }
   ],
   "source": [
    "import gc\n",
    "gc.collect()\n",
    "\n",
    "import sys\n",
    "sys.path.insert(0, '../')\n",
    "import logging\n",
    "logging.basicConfig(level=logging.ERROR)\n",
    "\n",
    "import pandas as pd\n",
    "import numpy as np\n",
    "from datetime import datetime, timedelta\n",
    "\n",
    "from cryptotrader.exchange_api.poloniex import Poloniex\n",
    "from cryptotrader.envs.trading import BacktestDataFeed, BacktestEnvironment\n",
    "from cryptotrader.envs.utils import convert_and_clean, convert_to\n",
    "from cryptotrader.agents import apriori\n",
    "from cryptotrader.utils import array_normalize\n",
    "\n",
    "from time import time, sleep\n",
    "\n",
    "from bokeh.io import output_notebook\n",
    "from jupyterthemes import jtplot\n",
    "output_notebook()\n",
    "jtplot.style()\n",
    "%matplotlib inline\n",
    "%load_ext line_profiler\n",
    "\n",
    "import matplotlib.pyplot as plt"
   ]
  },
  {
   "cell_type": "code",
   "execution_count": null,
   "metadata": {},
   "outputs": [
    {
     "name": "stderr",
     "output_type": "stream",
     "text": [
      "INFO:backtest_env:[Trading Environment initialization]\n",
      "Trading Environment Initialized!\n",
      "\n"
     ]
    }
   ],
   "source": [
    "obs_steps = 300\n",
    "period = 30\n",
    "pairs = [\"USDT_BTC\", \"USDT_ETH\", \"USDT_LTC\", \"USDT_XRP\"]\n",
    "init_funds = {\"BTC\":'0.00000000', \"ETH\":'0.00000000', \"LTC\":'0.00000000', \"XRP\":'0.00000000', \"USDT\":'100.00000000'}\n",
    "\n",
    "tapi = Poloniex()\n",
    "tapi = BacktestDataFeed(tapi, period, pairs, init_funds)\n",
    "tapi.download_data(end=datetime.timestamp(datetime.utcnow() - timedelta(days=100)),\n",
    "                       start=datetime.timestamp(datetime.utcnow() - timedelta(days=200)))\n",
    "\n",
    "env = BacktestEnvironment(period, obs_steps, tapi, 'backtest_env')\n",
    "env.add_pairs(pairs)\n",
    "env.fiat = 'USDT'\n",
    "obs = env.reset()"
   ]
  },
  {
   "cell_type": "code",
   "execution_count": null,
   "metadata": {
    "scrolled": false
   },
   "outputs": [
    {
     "name": "stdout",
     "output_type": "stream",
     "text": [
      "Optimizing model for 100 steps with batch size 32...\n",
      "Optimization step 6/100, step reward: 0.11085618984317065, ETC: 0 days 02:11:24.351322 9 \r"
     ]
    }
   ],
   "source": [
    "nb_steps = 100\n",
    "batch_size = 32\n",
    "nb_max_episode_steps = 7\n",
    "\n",
    "mom = apriori.MomentumTrader()\n",
    "fib = apriori.HarmonicTrader()\n",
    "pamr = apriori.PAMRTrader()\n",
    "\n",
    "mom.set_params(**{'mean_type': 'kama', 'ma1': 7, 'ma2': 177, 'std_span': 100, 'std_weight_down': 1.5866992187499998, 'std_weight_up': 0.67654296875} )\n",
    "fib.set_params(**{'err_allowed': .0563, 'peak_order': 12})\n",
    "pamr.set_params(**{'variant': 'PAMR1', 'C': 1685, 'sensitivity': 0.031357896566833805})\n",
    "\n",
    "agent = apriori.FactorTrader([mom, fib, pamr])\n",
    "opt_params, info = agent.fit(env, nb_steps, batch_size=batch_size, nb_max_episode_steps=nb_max_episode_steps)\n",
    "print('\\n', opt_params, '\\n', env.status)\n",
    "agent.test(env, verbose=True)\n",
    "env.plot_results();"
   ]
  },
  {
   "cell_type": "code",
   "execution_count": null,
   "metadata": {
    "scrolled": false
   },
   "outputs": [],
   "source": [
    "tapi.download_data(end=datetime.timestamp(datetime.now()),\n",
    "                       start=datetime.timestamp(datetime.now() - timedelta(days=100)))\n",
    "agent.test(env, verbose=True)\n",
    "env.plot_results();"
   ]
  },
  {
   "cell_type": "code",
   "execution_count": null,
   "metadata": {
    "collapsed": true
   },
   "outputs": [],
   "source": []
  }
 ],
 "metadata": {
  "kernelspec": {
   "display_name": "Python 3",
   "language": "python",
   "name": "python3"
  },
  "language_info": {
   "codemirror_mode": {
    "name": "ipython",
    "version": 3
   },
   "file_extension": ".py",
   "mimetype": "text/x-python",
   "name": "python",
   "nbconvert_exporter": "python",
   "pygments_lexer": "ipython3",
   "version": "3.6.0"
  }
 },
 "nbformat": 4,
 "nbformat_minor": 2
}
