{
 "cells": [
  {
   "cell_type": "code",
   "execution_count": null,
   "metadata": {},
   "outputs": [],
   "source": [
    "import gc\n",
    "gc.collect()\n",
    "\n",
    "import sys\n",
    "sys.path.insert(0, '../')\n",
    "import logging\n",
    "logging.basicConfig(level=logging.ERROR)\n",
    "\n",
    "import pandas as pd\n",
    "import numpy as np\n",
    "from datetime import datetime, timedelta\n",
    "\n",
    "from cryptotrader.exchange_api.poloniex import Poloniex\n",
    "from cryptotrader.envs.trading import BacktestDataFeed, BacktestEnvironment\n",
    "from cryptotrader.envs.utils import make_balance, convert_to\n",
    "from cryptotrader.agents import apriori\n",
    "from cryptotrader.utils import array_normalize\n",
    "\n",
    "from time import time, sleep\n",
    "\n",
    "from bokeh.io import output_notebook\n",
    "from jupyterthemes import jtplot\n",
    "output_notebook()\n",
    "jtplot.style()\n",
    "%matplotlib inline\n",
    "%load_ext line_profiler\n",
    "\n",
    "import matplotlib.pyplot as plt"
   ]
  },
  {
   "cell_type": "code",
   "execution_count": null,
   "metadata": {},
   "outputs": [],
   "source": [
    "# Environment setup\n",
    "obs_steps = 300\n",
    "period = 30\n",
    "pairs = [\"USDT_BTC\", \"USDT_ETH\", \"USDT_LTC\", \"USDT_XRP\", \"USDT_XMR\", \"USDT_ETC\", \"USDT_DASH\"]\n",
    "init_funds = make_balance(crypto=0.0, fiat=100.0, pairs=pairs)\n",
    "\n",
    "tapi = Poloniex()\n",
    "tapi = BacktestDataFeed(tapi, period, pairs, init_funds)\n",
    "tapi.download_data(end=datetime.timestamp(datetime.utcnow() - timedelta(days=100)),\n",
    "                       start=datetime.timestamp(datetime.utcnow() - timedelta(days=200)))\n",
    "\n",
    "env = BacktestEnvironment(period, obs_steps, tapi, 'backtest_env')\n",
    "env.add_pairs(pairs)\n",
    "env.fiat = 'USDT'\n",
    "obs = env.reset()"
   ]
  },
  {
   "cell_type": "code",
   "execution_count": null,
   "metadata": {
    "scrolled": false
   },
   "outputs": [],
   "source": [
    "# Training run\n",
    "# Train params\n",
    "nb_steps = 100\n",
    "batch_size = 1\n",
    "nb_max_episode_steps = 7\n",
    "\n",
    "mom = apriori.MomentumTrader(ma_span=[133,234], std_span=39, mean_type='kama')\n",
    "fib = apriori.HarmonicTrader()\n",
    "\n",
    "agent = apriori.FactorTrader([mom, fib])\n",
    "\n",
    "search_space = {\n",
    "                'std_window':[2, env.obs_steps],\n",
    "                'std_weight':[0.0001, 3],\n",
    "                'alpha_up':[1e-4, 1],\n",
    "                'alpha_down':[1e-4, 1]\n",
    "                }\n",
    "\n",
    "opt_params, info = agent.fit(env, nb_steps, batch_size, search_space, nb_max_episode_steps=nb_max_episode_steps)\n",
    "print('\\n', opt_params, '\\n', env.status)\n",
    "agent.test(env, verbose=True)\n",
    "env.plot_results();"
   ]
  },
  {
   "cell_type": "code",
   "execution_count": null,
   "metadata": {
    "scrolled": false
   },
   "outputs": [],
   "source": [
    "# Validation run\n",
    "tapi.download_data(end=datetime.timestamp(datetime.now() - timedelta(days=50)),\n",
    "                       start=datetime.timestamp(datetime.now() - timedelta(days=100)))\n",
    "agent.test(env, verbose=True)\n",
    "env.plot_results();"
   ]
  },
  {
   "cell_type": "code",
   "execution_count": null,
   "metadata": {
    "collapsed": true
   },
   "outputs": [],
   "source": [
    "# Test run\n",
    "tapi.download_data(end=datetime.timestamp(datetime.now()),\n",
    "                       start=datetime.timestamp(datetime.now() - timedelta(days=50)))\n",
    "agent.test(env, verbose=True)\n",
    "env.plot_results();"
   ]
  }
 ],
 "metadata": {
  "kernelspec": {
   "display_name": "Python 3",
   "language": "python",
   "name": "python3"
  },
  "language_info": {
   "codemirror_mode": {
    "name": "ipython",
    "version": 3
   },
   "file_extension": ".py",
   "mimetype": "text/x-python",
   "name": "python",
   "nbconvert_exporter": "python",
   "pygments_lexer": "ipython3",
   "version": "3.6.0"
  }
 },
 "nbformat": 4,
 "nbformat_minor": 2
}
